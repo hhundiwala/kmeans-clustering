{
 "cells": [
  {
   "cell_type": "code",
   "execution_count": 1,
   "metadata": {
    "collapsed": true
   },
   "outputs": [],
   "source": [
    "%matplotlib inline\n",
    "import matplotlib.pyplot as plt\n",
    "import numpy as np\n",
    "import seaborn as sns;\n",
    "from sklearn import datasets"
   ]
  },
  {
   "cell_type": "code",
   "execution_count": null,
   "metadata": {
    "collapsed": true
   },
   "outputs": [],
   "source": []
  },
  {
   "cell_type": "code",
   "execution_count": 17,
   "metadata": {
    "collapsed": true
   },
   "outputs": [],
   "source": [
    "def Kmeans(data,no_of_clusters):\n",
    "    \n",
    "    color = ['r','g','b','y','c','m','k','w']\n",
    "    #initialising the centroids\n",
    "    rand_data = data.copy()       #As we dont want to distort the data\n",
    "    np.random.shuffle(rand_data)\n",
    "    centroids = rand_data[:no_of_clusters]\n",
    "    \n",
    "    #first clustering after calculating the eucleadian distance from centroids to each points\n",
    "    distances = np.sqrt(((data-centroids[:, np.newaxis])**2).sum(axis=2))\n",
    "    clustered_data = np.argmin(distances, axis=0)\n",
    "    print(clustered_data)\n",
    "    \n",
    "    while True:\n",
    "        new_centroids = np.array([data[clustered_data==k].mean(axis=0) for k in range(centroids.shape[0])])\n",
    "        distances = np.sqrt(((data - new_centroids[:, np.newaxis])**2).sum(axis=2))\n",
    "        temp_clustered_data = np.argmin(distances, axis=0)\n",
    "        if np.array_equal(temp_clustered_data,clustered_data):\n",
    "            break;\n",
    "        else:\n",
    "            clustered_data = temp_clustered_data\n",
    "    \n",
    "    arr = np.unique(clustered_data)\n",
    "    \n",
    "    indices_to_plot = []\n",
    "    fig = plt.figure()\n",
    "    fig.suptitle('Scatter Plot for clusters')\n",
    "    ax = fig.add_subplot(1,1,1)\n",
    "    ax.set_xlabel('X')\n",
    "    ax.set_ylabel('Y')\n",
    "    for x in np.nditer(arr):\n",
    "        indices_to_plot.append(np.where(clustered_data==x))\n",
    "    p=0\n",
    "    \n",
    "    print(clustered_data)\n",
    "    for i in range(0,len(indices_to_plot)):\n",
    "        for j in np.nditer(indices_to_plot[i]):\n",
    "               ax.scatter(data[j,0],data[j,1], c= color[p])\n",
    "        p = p + 1\n",
    "        \n",
    "    plt.show()\n",
    "        \n",
    "            \n",
    "    return clustered_data"
   ]
  },
  {
   "cell_type": "code",
   "execution_count": 18,
   "metadata": {
    "collapsed": true
   },
   "outputs": [],
   "source": [
    "iris = datasets.load_iris()\n",
    "X = iris.data\n",
    "feature_names = iris.feature_names\n",
    "y = iris.target\n",
    "target_names = iris.target_names"
   ]
  },
  {
   "cell_type": "code",
   "execution_count": 19,
   "metadata": {},
   "outputs": [
    {
     "name": "stdout",
     "output_type": "stream",
     "text": [
      "[0 0 0 0 0 0 0 0 0 0 0 0 0 0 0 0 0 0 0 0 0 0 0 0 0 0 0 0 0 0 0 0 0 0 0 0 0\n",
      " 0 0 0 0 0 0 0 0 0 0 0 0 0 1 2 1 2 1 2 2 2 1 2 2 2 2 2 2 1 2 2 2 2 2 2 2 2\n",
      " 2 1 1 1 2 2 2 2 2 2 2 2 1 2 2 2 2 2 2 2 2 2 2 2 0 2 1 2 1 1 1 1 2 1 1 1 1\n",
      " 1 1 2 2 1 1 1 1 2 1 2 1 2 1 1 2 2 1 1 1 1 1 1 2 1 1 1 2 1 1 1 2 1 1 1 2 1\n",
      " 2 2]\n",
      "[0 0 0 0 0 0 0 0 0 0 0 0 0 0 0 0 0 0 0 0 0 0 0 0 0 0 0 0 0 0 0 0 0 0 0 0 0\n",
      " 0 0 0 0 0 0 0 0 0 0 0 0 0 1 2 1 2 2 2 2 2 2 2 2 2 2 2 2 2 2 2 2 2 2 2 2 2\n",
      " 2 2 2 1 2 2 2 2 2 2 2 2 2 2 2 2 2 2 2 2 2 2 2 2 2 2 1 2 1 1 1 1 2 1 1 1 1\n",
      " 1 1 2 2 1 1 1 1 2 1 2 1 2 1 1 2 2 1 1 1 1 1 2 1 1 1 1 2 1 1 1 2 1 1 1 2 1\n",
      " 1 2]\n"
     ]
    },
    {
     "data": {
      "image/png": "[encoded data removed]",
      "text/plain": [
       "<matplotlib.figure.Figure at 0x1a2003d780>"
      ]
     },
     "metadata": {},
     "output_type": "display_data"
    },
    {
     "data": {
      "text/plain": [
       "array([0, 0, 0, 0, 0, 0, 0, 0, 0, 0, 0, 0, 0, 0, 0, 0, 0, 0, 0, 0, 0, 0, 0,\n",
       "       0, 0, 0, 0, 0, 0, 0, 0, 0, 0, 0, 0, 0, 0, 0, 0, 0, 0, 0, 0, 0, 0, 0,\n",
       "       0, 0, 0, 0, 1, 2, 1, 2, 2, 2, 2, 2, 2, 2, 2, 2, 2, 2, 2, 2, 2, 2, 2,\n",
       "       2, 2, 2, 2, 2, 2, 2, 2, 1, 2, 2, 2, 2, 2, 2, 2, 2, 2, 2, 2, 2, 2, 2,\n",
       "       2, 2, 2, 2, 2, 2, 2, 2, 1, 2, 1, 1, 1, 1, 2, 1, 1, 1, 1, 1, 1, 2, 2,\n",
       "       1, 1, 1, 1, 2, 1, 2, 1, 2, 1, 1, 2, 2, 1, 1, 1, 1, 1, 2, 1, 1, 1, 1,\n",
       "       2, 1, 1, 1, 2, 1, 1, 1, 2, 1, 1, 2])"
      ]
     },
     "execution_count": 19,
     "metadata": {},
     "output_type": "execute_result"
    }
   ],
   "source": [
    "Kmeans(X,3)"
   ]
  },
  {
   "cell_type": "code",
   "execution_count": 20,
   "metadata": {},
   "outputs": [
    {
     "name": "stdout",
     "output_type": "stream",
     "text": [
      "[0 0 0 0 0 0 0 0 0 0 0 0 0 0 0 0 0 0 0 0 0 0 0 0 0 0 0 0 0 0 0 0 0 0 0 0 0\n",
      " 0 0 0 0 0 0 0 0 0 0 0 0 0 1 1 1 1 1 1 1 1 1 1 1 1 1 1 1 1 1 1 1 1 1 1 1 1\n",
      " 1 1 1 1 1 1 1 1 1 1 1 1 1 1 1 1 1 1 1 1 1 1 1 1 1 1 2 2 2 2 2 2 2 2 2 2 2\n",
      " 2 2 2 2 2 2 2 2 2 2 2 2 2 2 2 2 2 2 2 2 2 2 2 2 2 2 2 2 2 2 2 2 2 2 2 2 2\n",
      " 2 2]\n"
     ]
    },
    {
     "data": {
      "image/png": "[encoded data removed]",
      "text/plain": [
       "<matplotlib.figure.Figure at 0x1a1ff5a128>"
      ]
     },
     "metadata": {},
     "output_type": "display_data"
    }
   ],
   "source": [
    "arr = np.unique(y)\n",
    "color = ['r','g','b','y','c','m','k','w'] \n",
    "indices_to_plot = []\n",
    "fig = plt.figure()\n",
    "fig.suptitle('Scatter Plot for clusters')\n",
    "ax = fig.add_subplot(1,1,1)\n",
    "ax.set_xlabel('X')\n",
    "ax.set_ylabel('Y')\n",
    "for x in np.nditer(arr):\n",
    "    indices_to_plot.append(np.where(y==x))\n",
    "p=0\n",
    "    \n",
    "print(y)\n",
    "for i in range(0,len(indices_to_plot)):\n",
    "    for j in np.nditer(indices_to_plot[i]):\n",
    "        ax.scatter(X[j,1],X[j,2], c= color[p])\n",
    "    p = p + 1\n",
    "        \n",
    "plt.show()"
   ]
  },
  {
   "cell_type": "code",
   "execution_count": null,
   "metadata": {
    "collapsed": true
   },
   "outputs": [],
   "source": []
  },
  {
   "cell_type": "code",
   "execution_count": 7,
   "metadata": {},
   "outputs": [
    {
     "data": {
      "text/plain": [
       "array([0, 0, 0, 0, 0, 0, 0, 0, 0, 0, 0, 0, 0, 0, 0, 0, 0, 0, 0, 0, 0, 0, 0,\n",
       "       0, 0, 0, 0, 0, 0, 0, 0, 0, 0, 0, 0, 0, 0, 0, 0, 0, 0, 0, 0, 0, 0, 0,\n",
       "       0, 0, 0, 0, 1, 1, 1, 1, 1, 1, 1, 1, 1, 1, 1, 1, 1, 1, 1, 1, 1, 1, 1,\n",
       "       1, 1, 1, 1, 1, 1, 1, 1, 1, 1, 1, 1, 1, 1, 1, 1, 1, 1, 1, 1, 1, 1, 1,\n",
       "       1, 1, 1, 1, 1, 1, 1, 1, 2, 2, 2, 2, 2, 2, 2, 2, 2, 2, 2, 2, 2, 2, 2,\n",
       "       2, 2, 2, 2, 2, 2, 2, 2, 2, 2, 2, 2, 2, 2, 2, 2, 2, 2, 2, 2, 2, 2, 2,\n",
       "       2, 2, 2, 2, 2, 2, 2, 2, 2, 2, 2, 2])"
      ]
     },
     "execution_count": 7,
     "metadata": {},
     "output_type": "execute_result"
    }
   ],
   "source": [
    "y"
   ]
  },
  {
   "cell_type": "code",
   "execution_count": 6,
   "metadata": {
    "collapsed": true
   },
   "outputs": [],
   "source": [
    "data = X\n",
    "no_of_clusters = 3\n",
    "rand_data = data.copy()       #As we dont want to distort the data\n",
    "np.random.shuffle(rand_data)\n",
    "centroids = rand_data[:no_of_clusters]\n",
    "    \n",
    "#first clustering after calculating the eucleadian distance from centroids to each points"
   ]
  },
  {
   "cell_type": "markdown",
   "metadata": {},
   "source": [
    "Trying to calculate the distance between data_points and centroids"
   ]
  },
  {
   "cell_type": "code",
   "execution_count": null,
   "metadata": {
    "collapsed": true
   },
   "outputs": [],
   "source": []
  },
  {
   "cell_type": "code",
   "execution_count": 7,
   "metadata": {
    "collapsed": true
   },
   "outputs": [],
   "source": [
    "data = data[0:10,:]"
   ]
  },
  {
   "cell_type": "code",
   "execution_count": 8,
   "metadata": {
    "collapsed": true
   },
   "outputs": [],
   "source": [
    "rand_data = data.copy()       #As we dont want to distort the data\n",
    "np.random.shuffle(rand_data)\n",
    "centroids = rand_data[:no_of_clusters]"
   ]
  },
  {
   "cell_type": "code",
   "execution_count": 9,
   "metadata": {},
   "outputs": [
    {
     "data": {
      "text/plain": [
       "(3, 4)"
      ]
     },
     "execution_count": 9,
     "metadata": {},
     "output_type": "execute_result"
    }
   ],
   "source": [
    "centroids.shape"
   ]
  },
  {
   "cell_type": "code",
   "execution_count": 10,
   "metadata": {},
   "outputs": [
    {
     "data": {
      "text/plain": [
       "array([[ 5.1,  3.5,  1.4,  0.2],\n",
       "       [ 4.9,  3. ,  1.4,  0.2],\n",
       "       [ 4.7,  3.2,  1.3,  0.2],\n",
       "       [ 4.6,  3.1,  1.5,  0.2],\n",
       "       [ 5. ,  3.6,  1.4,  0.2],\n",
       "       [ 5.4,  3.9,  1.7,  0.4],\n",
       "       [ 4.6,  3.4,  1.4,  0.3],\n",
       "       [ 5. ,  3.4,  1.5,  0.2],\n",
       "       [ 4.4,  2.9,  1.4,  0.2],\n",
       "       [ 4.9,  3.1,  1.5,  0.1]])"
      ]
     },
     "execution_count": 10,
     "metadata": {},
     "output_type": "execute_result"
    }
   ],
   "source": [
    "data"
   ]
  },
  {
   "cell_type": "code",
   "execution_count": 11,
   "metadata": {},
   "outputs": [
    {
     "data": {
      "text/plain": [
       "array([[ 5. ,  3.6,  1.4,  0.2],\n",
       "       [ 4.9,  3.1,  1.5,  0.1],\n",
       "       [ 4.9,  3. ,  1.4,  0.2]])"
      ]
     },
     "execution_count": 11,
     "metadata": {},
     "output_type": "execute_result"
    }
   ],
   "source": [
    "centroids"
   ]
  },
  {
   "cell_type": "code",
   "execution_count": 12,
   "metadata": {},
   "outputs": [
    {
     "data": {
      "text/plain": [
       "array([[[ 5. ,  3.6,  1.4,  0.2]],\n",
       "\n",
       "       [[ 4.9,  3.1,  1.5,  0.1]],\n",
       "\n",
       "       [[ 4.9,  3. ,  1.4,  0.2]]])"
      ]
     },
     "execution_count": 12,
     "metadata": {},
     "output_type": "execute_result"
    }
   ],
   "source": [
    "centroids[:, np.newaxis]"
   ]
  },
  {
   "cell_type": "code",
   "execution_count": 13,
   "metadata": {},
   "outputs": [
    {
     "data": {
      "text/plain": [
       "array([[[ 0.01,  0.01,  0.  ,  0.  ],\n",
       "        [ 0.01,  0.36,  0.  ,  0.  ],\n",
       "        [ 0.09,  0.16,  0.01,  0.  ],\n",
       "        [ 0.16,  0.25,  0.01,  0.  ],\n",
       "        [ 0.  ,  0.  ,  0.  ,  0.  ],\n",
       "        [ 0.16,  0.09,  0.09,  0.04],\n",
       "        [ 0.16,  0.04,  0.  ,  0.01],\n",
       "        [ 0.  ,  0.04,  0.01,  0.  ],\n",
       "        [ 0.36,  0.49,  0.  ,  0.  ],\n",
       "        [ 0.01,  0.25,  0.01,  0.01]],\n",
       "\n",
       "       [[ 0.04,  0.16,  0.01,  0.01],\n",
       "        [ 0.  ,  0.01,  0.01,  0.01],\n",
       "        [ 0.04,  0.01,  0.04,  0.01],\n",
       "        [ 0.09,  0.  ,  0.  ,  0.01],\n",
       "        [ 0.01,  0.25,  0.01,  0.01],\n",
       "        [ 0.25,  0.64,  0.04,  0.09],\n",
       "        [ 0.09,  0.09,  0.01,  0.04],\n",
       "        [ 0.01,  0.09,  0.  ,  0.01],\n",
       "        [ 0.25,  0.04,  0.01,  0.01],\n",
       "        [ 0.  ,  0.  ,  0.  ,  0.  ]],\n",
       "\n",
       "       [[ 0.04,  0.25,  0.  ,  0.  ],\n",
       "        [ 0.  ,  0.  ,  0.  ,  0.  ],\n",
       "        [ 0.04,  0.04,  0.01,  0.  ],\n",
       "        [ 0.09,  0.01,  0.01,  0.  ],\n",
       "        [ 0.01,  0.36,  0.  ,  0.  ],\n",
       "        [ 0.25,  0.81,  0.09,  0.04],\n",
       "        [ 0.09,  0.16,  0.  ,  0.01],\n",
       "        [ 0.01,  0.16,  0.01,  0.  ],\n",
       "        [ 0.25,  0.01,  0.  ,  0.  ],\n",
       "        [ 0.  ,  0.01,  0.01,  0.01]]])"
      ]
     },
     "execution_count": 13,
     "metadata": {},
     "output_type": "execute_result"
    }
   ],
   "source": [
    "((data-centroids[:, np.newaxis])**2)"
   ]
  },
  {
   "cell_type": "code",
   "execution_count": 14,
   "metadata": {},
   "outputs": [
    {
     "data": {
      "text/plain": [
       "array([[ 0.14142136,  0.60827625,  0.50990195,  0.64807407,  0.        ,\n",
       "         0.6164414 ,  0.45825757,  0.2236068 ,  0.92195445,  0.52915026],\n",
       "       [ 0.46904158,  0.17320508,  0.31622777,  0.31622777,  0.52915026,\n",
       "         1.00995049,  0.47958315,  0.33166248,  0.55677644,  0.        ],\n",
       "       [ 0.53851648,  0.        ,  0.3       ,  0.33166248,  0.60827625,\n",
       "         1.09087121,  0.50990195,  0.42426407,  0.50990195,  0.17320508]])"
      ]
     },
     "execution_count": 14,
     "metadata": {},
     "output_type": "execute_result"
    }
   ],
   "source": [
    "p= np.sqrt(((data-centroids[:, np.newaxis])**2).sum(axis=2))\n",
    "p"
   ]
  },
  {
   "cell_type": "code",
   "execution_count": 16,
   "metadata": {},
   "outputs": [
    {
     "data": {
      "text/plain": [
       "array([0, 2, 2, 1, 0, 0, 0, 0, 2, 1])"
      ]
     },
     "execution_count": 16,
     "metadata": {},
     "output_type": "execute_result"
    }
   ],
   "source": [
    "clustered_data = np.argmin(p, axis=0)\n",
    "clustered_data"
   ]
  },
  {
   "cell_type": "code",
   "execution_count": 227,
   "metadata": {
    "collapsed": true
   },
   "outputs": [],
   "source": [
    "new_centroids = np.array([data[clustered_data==k].mean(axis=0) for k in range(centroids.shape[0])])"
   ]
  },
  {
   "cell_type": "code",
   "execution_count": 228,
   "metadata": {},
   "outputs": [
    {
     "data": {
      "text/plain": [
       "array([[ 4.925,  3.475,  1.425,  0.225],\n",
       "       [ 5.4  ,  3.9  ,  1.7  ,  0.4  ],\n",
       "       [ 4.7  ,  3.06 ,  1.42 ,  0.18 ]])"
      ]
     },
     "execution_count": 228,
     "metadata": {},
     "output_type": "execute_result"
    }
   ],
   "source": [
    "new_centroids"
   ]
  },
  {
   "cell_type": "code",
   "execution_count": 229,
   "metadata": {
    "collapsed": true
   },
   "outputs": [],
   "source": [
    "distances = np.sqrt(((data - new_centroids[:, np.newaxis])**2).sum(axis=2))"
   ]
  },
  {
   "cell_type": "code",
   "execution_count": 230,
   "metadata": {},
   "outputs": [
    {
     "data": {
      "text/plain": [
       "array([[ 0.18027756,  0.4769696 ,  0.37749172,  0.50249378,  0.15      ,\n",
       "         0.71589105,  0.34278273,  0.13228757,  0.77942286,  0.40311289],\n",
       "       [ 0.6164414 ,  1.09087121,  1.08627805,  1.16619038,  0.6164414 ,\n",
       "         0.        ,  0.99498744,  0.7       ,  1.45945195,  1.00995049],\n",
       "       [ 0.59531504,  0.21071308,  0.18547237,  0.1356466 ,  0.61838499,\n",
       "         1.14995652,  0.37469988,  0.46086874,  0.34117444,  0.23323808]])"
      ]
     },
     "execution_count": 230,
     "metadata": {},
     "output_type": "execute_result"
    }
   ],
   "source": [
    "distances"
   ]
  },
  {
   "cell_type": "code",
   "execution_count": null,
   "metadata": {
    "collapsed": true
   },
   "outputs": [],
   "source": [
    "def elbow_method(data):\n",
    "    "
   ]
  }
 ],
 "metadata": {
  "kernelspec": {
   "display_name": "Python 3",
   "language": "python",
   "name": "python3"
  },
  "language_info": {
   "codemirror_mode": {
    "name": "ipython",
    "version": 3
   },
   "file_extension": ".py",
   "mimetype": "text/x-python",
   "name": "python",
   "nbconvert_exporter": "python",
   "pygments_lexer": "ipython3",
   "version": "3.6.1"
  }
 },
 "nbformat": 4,
 "nbformat_minor": 2
}
